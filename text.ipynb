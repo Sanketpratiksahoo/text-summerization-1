{
 "cells": [
  {
   "cell_type": "code",
   "execution_count": null,
   "id": "51ab6310",
   "metadata": {},
   "outputs": [],
   "source": []
  },
  {
   "cell_type": "code",
   "execution_count": 1,
   "id": "ee185030",
   "metadata": {},
   "outputs": [
    {
     "name": "stdout",
     "output_type": "stream",
     "text": [
      "TensorFlow Version: 2.14.0\n"
     ]
    }
   ],
   "source": [
    "import numpy as np\n",
    "import pandas as pd\n",
    "import re\n",
    "import tensorflow as tf\n",
    "import time\n",
    "from tensorflow.python.layers.core import Dense\n",
    "from tensorflow.python.ops.rnn_cell_impl import _zero_state_tensors\n",
    "\n",
    "# Manually define a set of English stopwords\n",
    "stopwords_set = set([\n",
    "    \"i\", \"me\", \"my\", \"myself\", \"we\", \"our\", \"ours\", \"ourselves\", \"you\", \"your\", \"yours\", \"yourself\", \"yourselves\",\n",
    "    \"he\", \"him\", \"his\", \"himself\", \"she\", \"her\", \"hers\", \"herself\", \"it\", \"its\", \"itself\", \"they\", \"them\", \"their\",\n",
    "    \"theirs\", \"themselves\", \"what\", \"which\", \"who\", \"whom\", \"this\", \"that\", \"these\", \"those\", \"am\", \"is\", \"are\", \"was\",\n",
    "    \"were\", \"be\", \"been\", \"being\", \"have\", \"has\", \"had\", \"having\", \"do\", \"does\", \"did\", \"doing\", \"a\", \"an\", \"the\", \"and\",\n",
    "    \"but\", \"if\", \"or\", \"because\", \"as\", \"until\", \"while\", \"of\", \"at\", \"by\", \"for\", \"with\", \"about\", \"against\", \"between\",\n",
    "    \"into\", \"through\", \"during\", \"before\", \"after\", \"above\", \"below\", \"to\", \"from\", \"up\", \"down\", \"in\", \"out\", \"on\", \"off\",\n",
    "    \"over\", \"under\", \"again\", \"further\", \"then\", \"once\", \"here\", \"there\", \"when\", \"where\", \"why\", \"how\", \"all\", \"any\",\n",
    "    \"both\", \"each\", \"few\", \"more\", \"most\", \"other\", \"some\", \"such\", \"no\", \"nor\", \"not\", \"only\", \"own\", \"same\", \"so\",\n",
    "    \"than\", \"too\", \"very\", \"s\", \"t\", \"can\", \"will\", \"just\", \"don\", \"should\", \"now\", \"d\", \"ll\", \"m\", \"o\", \"re\", \"ve\", \"y\",\n",
    "    \"ain\", \"aren\", \"couldn\", \"didn\", \"doesn\", \"hadn\", \"hasn\", \"haven\", \"isn\", \"ma\", \"mightn\", \"mustn\", \"needn\", \"shan\",\n",
    "    \"shouldn\", \"wasn\", \"weren\", \"won\", \"wouldn\"\n",
    "])\n",
    "\n",
    "print('TensorFlow Version: {}'.format(tf.__version__))"
   ]
  },
  {
   "cell_type": "code",
   "execution_count": 2,
   "id": "96582fbc",
   "metadata": {},
   "outputs": [],
   "source": [
    "# Read data from 'train.csv' into a DataFrame, handling potential parsing issues\n",
    "df = pd.read_csv('train.csv', on_bad_lines='skip', engine=\"python\")\n",
    "\n",
    "# Drop the 'id' column from the DataFrame\n",
    "df = df.drop(['id'], axis=1)"
   ]
  },
  {
   "cell_type": "code",
   "execution_count": 3,
   "id": "6c85a10e",
   "metadata": {},
   "outputs": [
    {
     "name": "stdout",
     "output_type": "stream",
     "text": [
      "Review # 1\n",
      "Original Text : \n",
      "By . Associated Press . PUBLISHED: . 14:11 EST, 25 October 2013 . | . UPDATED: . 15:36 EST, 25 October 2013 . The bishop of the Fargo Catholic Diocese in North Dakota has exposed potentially hundreds of church members in Fargo, Grand Forks and Jamestown to the hepatitis A virus in late September and early October. The state Health Department has issued an advisory of exposure for anyone who attended five churches and took communion. Bishop John Folda (pictured) of the Fargo Catholic Diocese in North Dakota has exposed potentially hundreds of church members in Fargo, Grand Forks and Jamestown to the hepatitis A . State Immunization Program Manager Molly Howell says the risk is low, but officials feel it's important to alert people to the possible exposure. The diocese announced on Monday that Bishop John Folda is taking time off after being diagnosed with hepatitis A. The diocese says he contracted the infection through contaminated food while attending a conference for newly ordained bishops in Italy last month. Symptoms of hepatitis A include fever, tiredness, loss of appetite, nausea and abdominal discomfort. Fargo Catholic Diocese in North Dakota (pictured) is where the bishop is located .\n",
      "\n",
      "\n",
      "Summary Text : \n",
      "Bishop John Folda, of North Dakota, is taking time off after being diagnosed .\n",
      "He contracted the infection through contaminated food in Italy .\n",
      "Church members in Fargo, Grand Forks and Jamestown could have been exposed .\n",
      "===========================================================================================================\n",
      "\n",
      "\n",
      "Review # 2\n",
      "Original Text : \n",
      "(CNN) -- Ralph Mata was an internal affairs lieutenant for the Miami-Dade Police Department, working in the division that investigates allegations of wrongdoing by cops. Outside the office, authorities allege that the 45-year-old longtime officer worked with a drug trafficking organization to help plan a murder plot and get guns. A criminal complaint unsealed in U.S. District Court in New Jersey Tuesday accuses Mata, also known as \"The Milk Man,\" of using his role as a police officer to help the drug trafficking organization in exchange for money and gifts, including a Rolex watch. In one instance, the complaint alleges, Mata arranged to pay two assassins to kill rival drug dealers. The killers would pose as cops, pulling over their targets before shooting them, according to the complaint. \"Ultimately, the (organization) decided not to move forward with the murder plot, but Mata still received a payment for setting up the meetings,\" federal prosecutors said in a statement. The complaint also alleges that Mata used his police badge to purchase weapons for drug traffickers. Mata, according to the complaint, then used contacts at the airport to transport the weapons in his carry-on luggage on trips from Miami to the Dominican Republic. Court documents released by investigators do not specify the name of the drug trafficking organization with which Mata allegedly conspired but says the organization has been importing narcotics from places such as Ecuador and the Dominican Republic by hiding them \"inside shipping containers containing pallets of produce, including bananas.\" The organization \"has been distributing narcotics in New Jersey and elsewhere,\" the complaint says. Authorities arrested Mata on Tuesday in Miami Gardens, Florida. It was not immediately clear whether Mata has an attorney, and police officials could not be immediately reached for comment. Mata has worked for the Miami-Dade Police Department since 1992, including directing investigations in Miami Gardens and working as a lieutenant in the K-9 unit at Miami International Airport, according to the complaint. Since March 2010, he had been working in the internal affairs division. Mata faces charges of aiding and abetting a conspiracy to distribute cocaine, conspiring to distribute cocaine and engaging in monetary transactions in property derived from specified unlawful activity. He is scheduled to appear in federal court in Florida on Wednesday. If convicted, Mata could face life in prison. CNN's Suzanne Presto contributed to this report.\n",
      "\n",
      "\n",
      "Summary Text : \n",
      "Criminal complaint: Cop used his role to help cocaine traffickers .\n",
      "Ralph Mata, an internal affairs lieutenant, allegedly helped group get guns .\n",
      "He also arranged to pay two assassins in a murder plot, a complaint alleges .\n",
      "===========================================================================================================\n",
      "\n",
      "\n",
      "Review # 3\n",
      "Original Text : \n",
      "A drunk driver who killed a young woman in a head-on crash while checking his mobile phone has been jailed for six years. Craig Eccleston-Todd, 27, was driving home from a night at a pub when he received a text message. As he was reading or replying to it, he veered across the road while driving round a bend and smashed into Rachel Titley’s car coming the other way. Craig Eccleston-Todd, 27 (left) was using his mobile phone when he crashed head-on into the car being driven by Rachel Titley, 28 (right). She died later from her injuries . The head-on crash took place in October 2013. Mr Eccleston-Todd's car was barely recognisable (pictured) Police said Eccleston-Todd had drunk at least three or four pints of beer before getting behind the wheel. He was found guilty of causing death by dangerous driving at Portsmouth Crown Court yesterday. Miss Titley, a 28-year-old solicitor’s clerk from Cowes, Isle of Wight, had also spent the evening with friends at a pub but had not drunk any alcohol, police said. She was driving responsibly and there was ‘nothing she could have done to avoid the collision’, they added. Lindsay Pennell, prosecuting, said: ‘Craig Eccleston-Todd’s driving resulted in the tragic death of a young woman, Rachel Titley, a death that could have been avoided. ‘Mr Eccleston-Todd took the decision to pick up his mobile phone whilst driving and, either reading or replying to this text message, was so distracted that he failed to negotiate a left-hand bend, crossing the central white line into the path of Miss Titley’s oncoming car. Miss Titley was pulled the wreckage of her Daihatsu Cuore but died later from her injuries in hospital . ‘Miss Titley [had] a bright future ahead of her. She was also returning home having spent an enjoyable evening with friends and was driving responsibly. ‘She had arranged to contact her friends when she got home to confirm that she had arrived safely. Her friends sadly never heard from her after they parted company. ‘Miss Titley’s death in these circumstances reiterates the danger of using a hand-held mobile phone whilst driving.’ Police were unable to take breath or blood tests from Eccleston-Todd immediately, but in tests several hours after the accident he was only marginally under the drink-drive limit. The judge agreed with police that he would have been over the limit at the time his red Citroen hit Miss Titley’s blue Daihatsu Cuore on a road near Yarmouth, Isle of Wight, on October 11, 2013. His phone records showed he was also texting around the time of the crash. PC Mark Furse, from Hampshire constabulary’s serious collision investigation unit, said: 'Our thoughts are with Rachel's family at this time. She had been out with friends at a pub in Shalfleet that evening, but had not had any alcohol. 'Our investigation showed that there was nothing she could have done to avoid the collision and sadly it cost her her life. 'Mr Eccleston-Todd had left work in Yarmouth and met with friends at a pub where he drank at least three to four pints of lager. He hadn't long left the pub to return home when the collision occurred at around 9.30pm. 'We weren't able to take breath or blood tests from him immediately and although blood taken several hours after the collision showed he was marginally under the limit, we maintain he would have been over the limit at the time of the collision and in summing up today, the judge agreed. 'The analysis of his phone records showed that he was texting on his phone around the time of the collision so it's highly likely this would also have contributed to his dangerous driving and loss of control.' Eccleston-Todd was found guilty of causing death by dangerous driving following a trial at Portsmouth Crown Court (pictured) He added: 'Mr Eccleston-Todd will now spend six years behind bars, but Rachel's family have lost her forever. 'I hope this will make people think twice before drinking any alcohol and getting behind the wheel, or using a phone once they're on the road. 'The dangers of drink driving and driving whilst using a mobile phone are obvious. Those who continue to do so risk spending a substantial time in prison. This case highlights just how tragic the consequences of committing these offences can be.' ‘Mr Eccleston-Todd will now spend six years behind bars, but Rachel’s family have lost her for ever. I hope this will make people think twice before drinking any alcohol and getting behind the wheel, or using a phone once they’re on the road. This case highlights just how tragic the consequences of committing these offences can be.’ Eccleston-Todd, of Newport, Isle of Wight, was also disqualified from driving for eight years after which he will have to complete an extended re-test.\n",
      "\n",
      "\n",
      "Summary Text : \n",
      "Craig Eccleston-Todd, 27, had drunk at least three pints before driving car .\n",
      "Was using phone when he veered across road in Yarmouth, Isle of Wight .\n",
      "Crashed head-on into 28-year-old Rachel Titley's car, who died in hospital .\n",
      "Police say he would have been over legal drink-drive limit at time of crash .\n",
      "He was found guilty at Portsmouth Crown Court of causing death by dangerous driving .\n",
      "===========================================================================================================\n",
      "\n",
      "\n",
      "Review # 4\n",
      "Original Text : \n",
      "(CNN) -- With a breezy sweep of his pen President Vladimir Putin wrote a new chapter into Crimea's turbulent history, committing the region to a future returned to Russian domain. Sixty years prior, Ukraine's breakaway peninsula was signed away just as swiftly by Soviet leader Nikita Khrushchev. But dealing with such a blatant land grab on its eastern flank won't be anywhere near as quick and easy for Europe's 28-member union. Because, unlike Crimea's rushed referendum, everyone has a say. After initially slapping visa restrictions and asset freezes on a limited number of little known politicians and military men, Europe is facing urgent calls to widen the scope of its measures to target the Russian business community in particular. The logic of this is that those who run Russia and own it are essentially two sides of the coin. Alexei Navalny, one-time Moscow mayoral contender now under house arrest for opposing the current regime, called for Europe's leaders to ban everyone -- from Vladimir Putin's personal banker to Chelsea Football Club owner Roman Abramovich from keeping their money and loved ones abroad. Asset freezes and visa restrictions are especially palatable options for the EU because they can be rolled out on a discretionary basis, without requiring cumbersome legal procedures and recourse. In fact Russia cancels visas for people it doesn't like all the time. Just look at Hermitage Capital founder Bill Browder who lost both his right of entry and Moscow-based money in 2005 and dare not go back. Russia also banned the adoption of its orphans by Americans in retaliation for the US's implementation of an anti-corruption law named after Sergei Magnitsky, Browder's lawyer who died after a year in a Moscow detention center, apparently beaten to death. Yet in playing the 'money talks' card, Europe must be ready for the consequences of such action. Because money also walks. As such EU leaders must be ready to accept sanctions are a two-way street and will hurt both sides. Targeting Russia's peripatetic business community would be one way of sapping their tenuous support for President Putin. And such a strategy might also turn out to have a silver lining: awarding EU countries a chance to finally deal with some of the more unpleasant sides of their patronage, including money laundering and corruption, which have inflated prize assets like London property and Picasso paintings for years. Where Europe should hold fire though is trade. Two decades of post-Soviet rapprochement and almost $500 billion worth of commerce is a lot to put at stake. It's true that any trade war would hurt Russia far harder than it would the EU - not least because 15% of the former's GDP comes from exports to the bloc. But Europe - with its hefty reliance on Russian gas - would have a hard time keeping its factories going and citizens warm without power from the east. And while Putin flexes his political muscle, open trade channels keep the dialogue going giving all sides a chance to change the subject and talk less tensely. No one can afford to cut off that lifeline, especially now with Europe's economy on the rebound and Russia's one on the wane.\n",
      "\n",
      "\n",
      "Summary Text : \n",
      "Nina dos Santos says Europe must be ready to accept sanctions will hurt both sides .\n",
      "Targeting Russia's business community would be one way of sapping their support for President Putin, she says .\n",
      "But she says Europe would have a hard time keeping its factories going without power from the east .\n",
      "===========================================================================================================\n",
      "\n",
      "\n",
      "Review # 5\n",
      "Original Text : \n",
      "Fleetwood are the only team still to have a 100% record in Sky Bet League One as a 2-0 win over Scunthorpe sent Graham Alexander’s men top of the table. The Cod Army are playing in the third tier for the first time in their history after six promotions in nine years and their remarkable ascent shows no sign of slowing with Jamie Proctor and Gareth Evans scoring the goals at Glanford Park. Fleetwood were one of five teams to have won two out of two but the other four clubs - Peterborough, Bristol City, Chesterfield and Crawley - all hit their first stumbling blocks. Posh were defeated 2-1 by Sheffield United, who had lost both of their opening contests. Jose Baxter’s opener gave the Blades a first-half lead, and although it was later cancelled out by Shaun Brisley’s goal, Ben Davies snatched a winner six minutes from time. In the lead: Jose Baxter (right) celebrates opening the scoring for Sheffield United . Up for the battle: Sheffield United's Michael Doyle (left) challenges Peterborough's Kyle Vassell in a keenly-contested clash . Bristol City, who beat Nigel Clough’s men on the opening day, were held to a goalless draw by last season's play-off finalists Leyton Orient while Chesterfield, the League Two champions, were beaten 1-0 by MK Dons, who play Manchester United in the Capital One Cup in seven days’ time. Arsenal loanee Benik Afobe scored the only goal of the game just after the break. Meanwhile, Crawley lost their unbeaten status, while Bradford maintained theirs, thanks to a 3-1 win for the Bantams. James Hanson became the first player to score against Crawley this season after 49 minutes before Joe Walsh equalised five minutes later. Heads up: Bristol City's Korey Smith (left) and Leyton Orient's Lloyd James go up for a header . But strikes from Billy Knott and Mason Bennett sealed an impressive away win Phil Parkinson's men. Bradford are now second behind Fleetwood after Doncaster’s stoppage-time equaliser meant Preston, for whom Joe Garner signed a new contract earlier on Tuesday, were held to a 1-1 draw which slipped them down the table. Chris Humphrey looked to have secured the points for the Lilywhites but Nathan Tyson struck a last-gasp leveller. Stand-in striker Matt Done scored a hat-trick for Rochdale in the evening’s high-scoring affair as Crewe were hammered 5-2. Marcus Haber marked his full Railwaymen debut with a brace but Done’s treble and goals from Ian Henderson and Peter Vincenti helped Keith Hill’s men to a big away victory. There were plenty of goals between Coventry and Barnsley too in a 2-2 draw with all four goals coming in the first half. Josh McQuoid and Jordan Clarke twice gave the Sky Blues the lead, but the Tykes earned a point thanks to strikes from Conor Hourihane and Leroy Lita. Notts County recorded a 2-1 home win over Colchester with Ronan Murray and Liam Noble on target. Freddie Sears replied for Colchester. James Wilson's second half equaliser earned Oldham a points against Port Vale after Tom Pope's opener and Yeovil claimed a 2-1 away victory at Walsall with Kevin Dawson striking a late winner. Tom Bradshaw had equalised after veteran James Hayter gave the Glovers the lead. Finally, Swindon held Gillingham to a 2-2 draw thanks to Stephen Bywater’s last-minute own goal. Danny Kedwell and Kortney Hause twice gave the Gills the lead but Andy Williams pulled Swindon level before Bywater dropped Raphael Branco's cross into his own net.\n",
      "\n",
      "\n",
      "Summary Text : \n",
      "Fleetwood top of League One after 2-0 win at Scunthorpe .\n",
      "Peterborough, Bristol City, Chesterfield and Crawley all drop first points of the season .\n",
      "Stand-in striker Matt Done scores a hat-trick as Rochdale thrash Crewe 5-2 .\n",
      "Wins for Notts County and Yeovil .\n",
      "Coventry/Bradford and Oldham/Port Vale both end in draws .\n",
      "A late Stephen Bywater own goal denies Gillingham three points against Millwall .\n",
      "===========================================================================================================\n",
      "\n",
      "\n",
      "Review # 6\n",
      "Original Text : \n",
      "He's been accused of making many a fashion faux pas while on holiday. But the Prime Minister seems to be deaf to his critics. Yesterday David Cameron was seen in the same pair of beige loafers he wore on holiday last year. Mr Cameron, who is in Lanzarote with his family, got  the £20.99 shoes from high street store Aldo and took them with him to Portugal last summer. Retread: David Cameron with Samantha yesterday. And yes - he's wearing the same shoes . David Cameron and Samantha in Portugal last year - where he debuted his beige loafers . Yesterday he teamed them with a casual . navy blue shirt and beige shorts on a trip to Teguise in the centre of . the island with wife Samantha. As . ever fashion consultant Mrs Cameron trumped her husband in the style . stakes, wearing an elegant black maxi dress and emerald green cardigan. The . couple and their children Nancy, Arthur and Florence are spending six . days on the island in a £200-a-night restored 18th century farmhouse, . away from the main resorts. The Prime Minister sported no socks with smart black work shoes in one memorable holiday look . The couple wear matching trainers while on holiday in Granada, Spain, in 2011 . The . retreat has been styled with an Indonesian theme. It includes . carved Buddha statues, has its own yoga hall, swimming pool, hot tub . and ‘chill-out’ area with hammocks – ideal for a Prime  Minister who . reputedly has a taste for ‘chillaxing’. Mr . Cameron has previously been ridiculed for his holiday attire, such as . wearing smart black work shoes without socks and garish floral shorts. Refreshment: David Cameron and his wife Samantha stop off for a coffee and a water during their break in Lanzarote . Jetting off: In April, the Camerons holidayed in Lanzarote, staying in an upmarket hotel . The Camerons are holidaying in Lanzarote, the most eastern Canary Island .\n",
      "\n",
      "\n",
      "Summary Text : \n",
      "Prime Minister and his family are enjoying an Easter break in Lanzarote .\n",
      "Sported the same £20.99 beige loafers as he wore in Portugal last year .\n",
      "PM sat and had a drink at a beach-side cafe on the Spanish Island .\n",
      "===========================================================================================================\n",
      "\n",
      "\n"
     ]
    }
   ],
   "source": [
    "for i in range(6):\n",
    "    print(\"Review #\",i+1)\n",
    "    print('Original Text : ')\n",
    "    print(df.article[i])\n",
    "   \n",
    "    print('\\n\\nSummary Text : ')\n",
    "    print(df.highlights[i])\n",
    "    \n",
    "    print('===========================================================================================================\\n\\n')"
   ]
  },
  {
   "cell_type": "code",
   "execution_count": 4,
   "id": "bb20ec62",
   "metadata": {},
   "outputs": [],
   "source": [
    "\n",
    "# A list of contractions from http://stackoverflow.com/questions/19790188/expanding-english-language-contractions-in-python\n",
    "contractions = { \n",
    "\"ain't\": \"am not\",\n",
    "\"aren't\": \"are not\",\n",
    "\"can't\": \"cannot\",\n",
    "\"can't've\": \"cannot have\",\n",
    "\"'cause\": \"because\",\n",
    "\"could've\": \"could have\",\n",
    "\"couldn't\": \"could not\",\n",
    "\"couldn't've\": \"could not have\",\n",
    "\"didn't\": \"did not\",\n",
    "\"doesn't\": \"does not\",\n",
    "\"don't\": \"do not\",\n",
    "\"hadn't\": \"had not\",\n",
    "\"hadn't've\": \"had not have\",\n",
    "\"hasn't\": \"has not\",\n",
    "\"haven't\": \"have not\",\n",
    "\"he'd\": \"he would\",\n",
    "\"he'd've\": \"he would have\",\n",
    "\"he'll\": \"he will\",\n",
    "\"he's\": \"he is\",\n",
    "\"how'd\": \"how did\",\n",
    "\"how'll\": \"how will\",\n",
    "\"how's\": \"how is\",\n",
    "\"i'd\": \"i would\",\n",
    "\"i'll\": \"i will\",\n",
    "\"i'm\": \"i am\",\n",
    "\"i've\": \"i have\",\n",
    "\"isn't\": \"is not\",\n",
    "\"it'd\": \"it would\",\n",
    "\"it'll\": \"it will\",\n",
    "\"it's\": \"it is\",\n",
    "\"let's\": \"let us\",\n",
    "\"ma'am\": \"madam\",\n",
    "\"mayn't\": \"may not\",\n",
    "\"might've\": \"might have\",\n",
    "\"mightn't\": \"might not\",\n",
    "\"must've\": \"must have\",\n",
    "\"mustn't\": \"must not\",\n",
    "\"needn't\": \"need not\",\n",
    "\"oughtn't\": \"ought not\",\n",
    "\"shan't\": \"shall not\",\n",
    "\"sha'n't\": \"shall not\",\n",
    "\"she'd\": \"she would\",\n",
    "\"she'll\": \"she will\",\n",
    "\"she's\": \"she is\",\n",
    "\"should've\": \"should have\",\n",
    "\"shouldn't\": \"should not\",\n",
    "\"that'd\": \"that would\",\n",
    "\"that's\": \"that is\",\n",
    "\"there'd\": \"there had\",\n",
    "\"there's\": \"there is\",\n",
    "\"they'd\": \"they would\",\n",
    "\"they'll\": \"they will\",\n",
    "\"they're\": \"they are\",\n",
    "\"they've\": \"they have\",\n",
    "\"wasn't\": \"was not\",\n",
    "\"we'd\": \"we would\",\n",
    "\"we'll\": \"we will\",\n",
    "\"we're\": \"we are\",\n",
    "\"we've\": \"we have\",\n",
    "\"weren't\": \"were not\",\n",
    "\"what'll\": \"what will\",\n",
    "\"what're\": \"what are\",\n",
    "\"what's\": \"what is\",\n",
    "\"what've\": \"what have\",\n",
    "\"where'd\": \"where did\",\n",
    "\"where's\": \"where is\",\n",
    "\"who'll\": \"who will\",\n",
    "\"who's\": \"who is\",\n",
    "\"won't\": \"will not\",\n",
    "\"wouldn't\": \"would not\",\n",
    "\"you'd\": \"you would\",\n",
    "\"you'll\": \"you will\",\n",
    "\"you're\": \"you are\"\n",
    "}"
   ]
  },
  {
   "cell_type": "code",
   "execution_count": 5,
   "id": "c8a1db2b",
   "metadata": {},
   "outputs": [],
   "source": [
    "def clean_text(text, remove_stopwords=True):\n",
    "    '''Remove unwanted characters, stopwords, and format the text to create fewer nulls word embeddings'''\n",
    "\n",
    "    # Convert words to lower case\n",
    "    text = text.lower()\n",
    "\n",
    "    # Replace contractions with their longer forms\n",
    "    if True:\n",
    "        text = text.split()\n",
    "        new_text = []\n",
    "        for word in text:\n",
    "            if word in contractions:\n",
    "                new_text.append(contractions[word])\n",
    "            else:\n",
    "                new_text.append(word)\n",
    "        text = \" \".join(new_text)\n",
    "\n",
    "    text = re.sub(r'https?:\\/\\/.*[\\r\\n]*', '', text, flags=re.MULTILINE)\n",
    "    text = re.sub(r'\\\\', ' ', text)\n",
    "    text = re.sub(r'\\'', ' ', text)\n",
    "\n",
    "    # Optionally, remove stop words\n",
    "    if remove_stopwords:\n",
    "        stops = stopwords_set  # Use your manually defined set\n",
    "        text = text.split()\n",
    "        text = [w for w in text if not w in stops]\n",
    "        text = \" \".join(text)\n",
    "\n",
    "    return text\n"
   ]
  },
  {
   "cell_type": "code",
   "execution_count": 6,
   "id": "f1319e6d",
   "metadata": {},
   "outputs": [
    {
     "name": "stdout",
     "output_type": "stream",
     "text": [
      "Summaries are complete.\n",
      "Texts are complete.\n"
     ]
    }
   ],
   "source": [
    "# Cleaning highlights\n",
    "clean_highlights = []\n",
    "for i in df.highlights:\n",
    "    clean_highlights.append(clean_text(i, remove_stopwords=False))\n",
    "print(\"Summaries are complete.\")\n",
    "\n",
    "# Cleaning articles\n",
    "clean_article = []\n",
    "for k in df.article:\n",
    "    clean_article.append(clean_text(k))\n",
    "print(\"Texts are complete.\")"
   ]
  },
  {
   "cell_type": "code",
   "execution_count": 7,
   "id": "396d9451",
   "metadata": {},
   "outputs": [
    {
     "name": "stdout",
     "output_type": "stream",
     "text": [
      "Clean Review # 1\n",
      "bishop john folda, of north dakota, is taking time off after being diagnosed . he contracted the infection through contaminated food in italy . church members in fargo, grand forks and jamestown could have been exposed .\n",
      ". associated press . published: . 14:11 est, 25 october 2013 . | . updated: . 15:36 est, 25 october 2013 . bishop fargo catholic diocese north dakota exposed potentially hundreds church members fargo, grand forks jamestown hepatitis virus late september early october. state health department issued advisory exposure anyone attended five churches took communion. bishop john folda (pictured) fargo catholic diocese north dakota exposed potentially hundreds church members fargo, grand forks jamestown hepatitis . state immunization program manager molly howell says risk low, officials feel important alert people possible exposure. diocese announced monday bishop john folda taking time diagnosed hepatitis a. diocese says contracted infection contaminated food attending conference newly ordained bishops italy last month. symptoms hepatitis include fever, tiredness, loss appetite, nausea abdominal discomfort. fargo catholic diocese north dakota (pictured) bishop located .\n",
      "\n",
      "Clean Review # 2\n",
      "criminal complaint: cop used his role to help cocaine traffickers . ralph mata, an internal affairs lieutenant, allegedly helped group get guns . he also arranged to pay two assassins in a murder plot, a complaint alleges .\n",
      "(cnn) -- ralph mata internal affairs lieutenant miami-dade police department, working division investigates allegations wrongdoing cops. outside office, authorities allege 45-year-old longtime officer worked drug trafficking organization help plan murder plot get guns. criminal complaint unsealed u.s. district court new jersey tuesday accuses mata, also known \"the milk man,\" using role police officer help drug trafficking organization exchange money gifts, including rolex watch. one instance, complaint alleges, mata arranged pay two assassins kill rival drug dealers. killers would pose cops, pulling targets shooting them, according complaint. \"ultimately, (organization) decided move forward murder plot, mata still received payment setting meetings,\" federal prosecutors said statement. complaint also alleges mata used police badge purchase weapons drug traffickers. mata, according complaint, used contacts airport transport weapons carry-on luggage trips miami dominican republic. court documents released investigators specify name drug trafficking organization mata allegedly conspired says organization importing narcotics places ecuador dominican republic hiding \"inside shipping containers containing pallets produce, including bananas.\" organization \"has distributing narcotics new jersey elsewhere,\" complaint says. authorities arrested mata tuesday miami gardens, florida. immediately clear whether mata attorney, police officials could immediately reached comment. mata worked miami-dade police department since 1992, including directing investigations miami gardens working lieutenant k-9 unit miami international airport, according complaint. since march 2010, working internal affairs division. mata faces charges aiding abetting conspiracy distribute cocaine, conspiring distribute cocaine engaging monetary transactions property derived specified unlawful activity. scheduled appear federal court florida wednesday. convicted, mata could face life prison. cnn suzanne presto contributed report.\n",
      "\n",
      "Clean Review # 3\n",
      "craig eccleston-todd, 27, had drunk at least three pints before driving car . was using phone when he veered across road in yarmouth, isle of wight . crashed head-on into 28-year-old rachel titley s car, who died in hospital . police say he would have been over legal drink-drive limit at time of crash . he was found guilty at portsmouth crown court of causing death by dangerous driving .\n",
      "drunk driver killed young woman head-on crash checking mobile phone jailed six years. craig eccleston-todd, 27, driving home night pub received text message. reading replying it, veered across road driving round bend smashed rachel titley’s car coming way. craig eccleston-todd, 27 (left) using mobile phone crashed head-on car driven rachel titley, 28 (right). died later injuries . head-on crash took place october 2013. mr eccleston-todd car barely recognisable (pictured) police said eccleston-todd drunk least three four pints beer getting behind wheel. found guilty causing death dangerous driving portsmouth crown court yesterday. miss titley, 28-year-old solicitor’s clerk cowes, isle wight, also spent evening friends pub drunk alcohol, police said. driving responsibly ‘nothing could done avoid collision’, added. lindsay pennell, prosecuting, said: ‘craig eccleston-todd’s driving resulted tragic death young woman, rachel titley, death could avoided. ‘mr eccleston-todd took decision pick mobile phone whilst driving and, either reading replying text message, distracted failed negotiate left-hand bend, crossing central white line path miss titley’s oncoming car. miss titley pulled wreckage daihatsu cuore died later injuries hospital . ‘miss titley [had] bright future ahead her. also returning home spent enjoyable evening friends driving responsibly. ‘she arranged contact friends got home confirm arrived safely. friends sadly never heard parted company. ‘miss titley’s death circumstances reiterates danger using hand-held mobile phone whilst driving.’ police unable take breath blood tests eccleston-todd immediately, tests several hours accident marginally drink-drive limit. judge agreed police would limit time red citroen hit miss titley’s blue daihatsu cuore road near yarmouth, isle wight, october 11, 2013. phone records showed also texting around time crash. pc mark furse, hampshire constabulary’s serious collision investigation unit, said: thoughts rachel family time. friends pub shalfleet evening, alcohol. investigation showed nothing could done avoid collision sadly cost life. mr eccleston-todd left work yarmouth met friends pub drank least three four pints lager. long left pub return home collision occurred around 9.30pm. able take breath blood tests immediately although blood taken several hours collision showed marginally limit, maintain would limit time collision summing today, judge agreed. analysis phone records showed texting phone around time collision highly likely would also contributed dangerous driving loss control. eccleston-todd found guilty causing death dangerous driving following trial portsmouth crown court (pictured) added: mr eccleston-todd spend six years behind bars, rachel family lost forever. hope make people think twice drinking alcohol getting behind wheel, using phone road. dangers drink driving driving whilst using mobile phone obvious. continue risk spending substantial time prison. case highlights tragic consequences committing offences be. ‘mr eccleston-todd spend six years behind bars, rachel’s family lost ever. hope make people think twice drinking alcohol getting behind wheel, using phone they’re road. case highlights tragic consequences committing offences be.’ eccleston-todd, newport, isle wight, also disqualified driving eight years complete extended re-test.\n",
      "\n",
      "Clean Review # 4\n",
      "nina dos santos says europe must be ready to accept sanctions will hurt both sides . targeting russia s business community would be one way of sapping their support for president putin, she says . but she says europe would have a hard time keeping its factories going without power from the east .\n",
      "(cnn) -- breezy sweep pen president vladimir putin wrote new chapter crimea turbulent history, committing region future returned russian domain. sixty years prior, ukraine breakaway peninsula signed away swiftly soviet leader nikita khrushchev. dealing blatant land grab eastern flank anywhere near quick easy europe 28-member union. because, unlike crimea rushed referendum, everyone say. initially slapping visa restrictions asset freezes limited number little known politicians military men, europe facing urgent calls widen scope measures target russian business community particular. logic run russia essentially two sides coin. alexei navalny, one-time moscow mayoral contender house arrest opposing current regime, called europe leaders ban everyone -- vladimir putin personal banker chelsea football club owner roman abramovich keeping money loved ones abroad. asset freezes visa restrictions especially palatable options eu rolled discretionary basis, without requiring cumbersome legal procedures recourse. fact russia cancels visas people like time. look hermitage capital founder bill browder lost right entry moscow-based money 2005 dare go back. russia also banned adoption orphans americans retaliation us implementation anti-corruption law named sergei magnitsky, browder lawyer died year moscow detention center, apparently beaten death. yet playing money talks card, europe must ready consequences action. money also walks. eu leaders must ready accept sanctions two-way street hurt sides. targeting russia peripatetic business community would one way sapping tenuous support president putin. strategy might also turn silver lining: awarding eu countries chance finally deal unpleasant sides patronage, including money laundering corruption, inflated prize assets like london property picasso paintings years. europe hold fire though trade. two decades post-soviet rapprochement almost $500 billion worth commerce lot put stake. true trade war would hurt russia far harder would eu - least 15% former gdp comes exports bloc. europe - hefty reliance russian gas - would hard time keeping factories going citizens warm without power east. putin flexes political muscle, open trade channels keep dialogue going giving sides chance change subject talk less tensely. one afford cut lifeline, especially europe economy rebound russia one wane.\n",
      "\n",
      "Clean Review # 5\n",
      "fleetwood top of league one after 2-0 win at scunthorpe . peterborough, bristol city, chesterfield and crawley all drop first points of the season . stand-in striker matt done scores a hat-trick as rochdale thrash crewe 5-2 . wins for notts county and yeovil . coventry/bradford and oldham/port vale both end in draws . a late stephen bywater own goal denies gillingham three points against millwall .\n",
      "fleetwood team still 100% record sky bet league one 2-0 win scunthorpe sent graham alexander’s men top table. cod army playing third tier first time history six promotions nine years remarkable ascent shows sign slowing jamie proctor gareth evans scoring goals glanford park. fleetwood one five teams two two four clubs - peterborough, bristol city, chesterfield crawley - hit first stumbling blocks. posh defeated 2-1 sheffield united, lost opening contests. jose baxter’s opener gave blades first-half lead, although later cancelled shaun brisley’s goal, ben davies snatched winner six minutes time. lead: jose baxter (right) celebrates opening scoring sheffield united . battle: sheffield united michael doyle (left) challenges peterborough kyle vassell keenly-contested clash . bristol city, beat nigel clough’s men opening day, held goalless draw last season play-off finalists leyton orient chesterfield, league two champions, beaten 1-0 mk dons, play manchester united capital one cup seven days’ time. arsenal loanee benik afobe scored goal game break. meanwhile, crawley lost unbeaten status, bradford maintained theirs, thanks 3-1 win bantams. james hanson became first player score crawley season 49 minutes joe walsh equalised five minutes later. heads up: bristol city korey smith (left) leyton orient lloyd james go header . strikes billy knott mason bennett sealed impressive away win phil parkinson men. bradford second behind fleetwood doncaster’s stoppage-time equaliser meant preston, joe garner signed new contract earlier tuesday, held 1-1 draw slipped table. chris humphrey looked secured points lilywhites nathan tyson struck last-gasp leveller. stand-in striker matt done scored hat-trick rochdale evening’s high-scoring affair crewe hammered 5-2. marcus haber marked full railwaymen debut brace done’s treble goals ian henderson peter vincenti helped keith hill’s men big away victory. plenty goals coventry barnsley 2-2 draw four goals coming first half. josh mcquoid jordan clarke twice gave sky blues lead, tykes earned point thanks strikes conor hourihane leroy lita. notts county recorded 2-1 home win colchester ronan murray liam noble target. freddie sears replied colchester. james wilson second half equaliser earned oldham points port vale tom pope opener yeovil claimed 2-1 away victory walsall kevin dawson striking late winner. tom bradshaw equalised veteran james hayter gave glovers lead. finally, swindon held gillingham 2-2 draw thanks stephen bywater’s last-minute goal. danny kedwell kortney hause twice gave gills lead andy williams pulled swindon level bywater dropped raphael branco cross net.\n",
      "\n"
     ]
    }
   ],
   "source": [
    "for i in range(5):\n",
    "    print(\"Clean Review #\",i+1)\n",
    "    print(clean_highlights[i])\n",
    "    print(clean_article[i])\n",
    "    print()"
   ]
  },
  {
   "cell_type": "code",
   "execution_count": 8,
   "id": "76f9259b",
   "metadata": {},
   "outputs": [],
   "source": [
    "def count_words(count_dict, text):\n",
    "    '''Count the number of occurrences of each word in a set of text'''\n",
    "    for sentence in text:\n",
    "        for word in sentence.split():\n",
    "            if word not in count_dict:\n",
    "                count_dict[word] = 1\n",
    "            else:\n",
    "                count_dict[word] += 1\n",
    "     "
   ]
  },
  {
   "cell_type": "code",
   "execution_count": 9,
   "id": "7ace2c3f",
   "metadata": {},
   "outputs": [
    {
     "name": "stdout",
     "output_type": "stream",
     "text": [
      "Size of Vocabulary: 1619597\n"
     ]
    }
   ],
   "source": [
    "# Find the number of times each word was used and the size of the vocabulary\n",
    "word_counts = {}\n",
    "count_words(word_counts, clean_highlights)\n",
    "count_words(word_counts, clean_article)          \n",
    "print(\"Size of Vocabulary:\", len(word_counts))\n"
   ]
  },
  {
   "cell_type": "code",
   "execution_count": 10,
   "id": "33ffcd2e",
   "metadata": {},
   "outputs": [
    {
     "name": "stdout",
     "output_type": "stream",
     "text": [
      "Word embeddings: 417195\n"
     ]
    }
   ],
   "source": [
    "embeddings_index = {}\n",
    "with open('numberbatch-en.txt', encoding='utf-8') as f:\n",
    "    for line in f:\n",
    "        values = line.split(' ')\n",
    "        word = values[0]\n",
    "        embedding = np.asarray(values[1:], dtype='float32')\n",
    "        embeddings_index[word] = embedding\n",
    "\n",
    "print('Word embeddings:', len(embeddings_index))"
   ]
  },
  {
   "cell_type": "code",
   "execution_count": 11,
   "id": "9c6da7f8",
   "metadata": {},
   "outputs": [
    {
     "name": "stdout",
     "output_type": "stream",
     "text": [
      "Number of words missing from CN: 106112\n",
      "Percent of words that are missing from vocabulary: 6.550000000000001%\n"
     ]
    }
   ],
   "source": [
    "# Find the number of words that are missing from CN, and are used more than our threshold.\n",
    "missing_words = 0\n",
    "threshold = 20\n",
    "\n",
    "for word, count in word_counts.items():\n",
    "    if count > threshold:\n",
    "        if word not in embeddings_index:\n",
    "            missing_words += 1\n",
    "            \n",
    "missing_ratio = round(missing_words/len(word_counts),4)*100\n",
    "            \n",
    "print(\"Number of words missing from CN:\", missing_words)\n",
    "print(\"Percent of words that are missing from vocabulary: {}%\".format(missing_ratio))"
   ]
  },
  {
   "cell_type": "code",
   "execution_count": 12,
   "id": "59ff46e0",
   "metadata": {},
   "outputs": [
    {
     "name": "stdout",
     "output_type": "stream",
     "text": [
      "Total number of unique words: 1619597\n",
      "Number of words we will use: 227489\n",
      "Percent of words we will use: 14.05%\n"
     ]
    }
   ],
   "source": [
    "# Limit the vocab that we will use to words that appear ≥ threshold or are in GloVe\n",
    "\n",
    "#dictionary to convert words to integers\n",
    "vocab_to_int = {} \n",
    "\n",
    "value = 0\n",
    "for word, count in word_counts.items():\n",
    "    if count >= threshold or word in embeddings_index:\n",
    "        vocab_to_int[word] = value\n",
    "        value += 1\n",
    "\n",
    "# Special tokens that will be added to our vocab\n",
    "codes = [\"\",\"\",\"\",\"\"]   \n",
    "\n",
    "# Add codes to vocab\n",
    "for code in codes:\n",
    "    vocab_to_int[code] = len(vocab_to_int)\n",
    "\n",
    "# Dictionary to convert integers to words\n",
    "int_to_vocab = {}\n",
    "for word, value in vocab_to_int.items():\n",
    "    int_to_vocab[value] = word\n",
    "\n",
    "usage_ratio = round(len(vocab_to_int) / len(word_counts),4)*100\n",
    "\n",
    "print(\"Total number of unique words:\", len(word_counts))\n",
    "print(\"Number of words we will use:\", len(vocab_to_int))\n",
    "print(\"Percent of words we will use: {}%\".format(usage_ratio))"
   ]
  },
  {
   "cell_type": "code",
   "execution_count": 13,
   "id": "bb49f420",
   "metadata": {
    "scrolled": true
   },
   "outputs": [
    {
     "name": "stdout",
     "output_type": "stream",
     "text": [
      "nb_words: 227489\n",
      "Size of word_embedding_matrix: (227489, 300)\n"
     ]
    }
   ],
   "source": [
    "# Need to use 300 for embedding dimensions to match CN's vectors.\n",
    "embedding_dim = 300\n",
    "nb_words = len(vocab_to_int)\n",
    "\n",
    "# Create matrix with default values of zero\n",
    "word_embedding_matrix = np.zeros((nb_words, embedding_dim), dtype=np.float32)\n",
    "for i, word in enumerate(vocab_to_int):\n",
    "    if word in embeddings_index:\n",
    "        word_embedding_matrix[i] = embeddings_index[word]\n",
    "    else:\n",
    "        new_embedding = np.array(np.random.uniform(-1.0, 1.0, embedding_dim))\n",
    "        embeddings_index[word] = new_embedding\n",
    "        word_embedding_matrix[i] = new_embedding\n",
    "print(\"nb_words:\", nb_words)\n",
    "print(\"Size of word_embedding_matrix:\", word_embedding_matrix.shape)"
   ]
  },
  {
   "cell_type": "code",
   "execution_count": 14,
   "id": "4484fcfe",
   "metadata": {},
   "outputs": [],
   "source": [
    "def convert_to_ints(text, word_count, unk_count, eos=False):\n",
    "    '''Convert words in text to an integer.\n",
    "       If word is not in vocab_to_int, use UNK's integer.\n",
    "       Total the number of words and UNKs.\n",
    "       Add EOS token to the end of texts'''\n",
    "    ints = []\n",
    "    for sentence in text:\n",
    "        sentence_ints = []\n",
    "        for word in sentence.split():\n",
    "            word_count += 1\n",
    "            if word in vocab_to_int:\n",
    "                sentence_ints.append(vocab_to_int[word])\n",
    "            else:\n",
    "                sentence_ints.append(vocab_to_int[\"\"])\n",
    "                unk_count += 1\n",
    "        if eos:\n",
    "            sentence_ints.append(vocab_to_int[\"\"])\n",
    "        ints.append(sentence_ints)\n",
    "    return ints, word_count, unk_count\n",
    "     "
   ]
  },
  {
   "cell_type": "code",
   "execution_count": 15,
   "id": "6cb6ab9e",
   "metadata": {},
   "outputs": [
    {
     "name": "stdout",
     "output_type": "stream",
     "text": [
      "Total number of words in headlines: 132496893\n",
      "Total number of UNKs in headlines: 3811664\n",
      "Percent of words that are UNK: 2.88%\n"
     ]
    }
   ],
   "source": [
    "# Apply convert_to_ints to clean_summaries and clean_texts\n",
    "word_count = 0\n",
    "unk_count = 0\n",
    "\n",
    "int_summaries, word_count, unk_count = convert_to_ints(clean_highlights, word_count, unk_count)\n",
    "int_texts, word_count, unk_count = convert_to_ints(clean_article, word_count, unk_count, eos=True)\n",
    "\n",
    "unk_percent = round(unk_count/word_count,4)*100\n",
    "\n",
    "print(\"Total number of words in headlines:\", word_count)\n",
    "print(\"Total number of UNKs in headlines:\", unk_count)\n",
    "print(\"Percent of words that are UNK: {}%\".format(unk_percent))"
   ]
  },
  {
   "cell_type": "code",
   "execution_count": 16,
   "id": "85319d2d",
   "metadata": {},
   "outputs": [],
   "source": [
    "def create_lengths(text):\n",
    "    '''Create a data frame of the sentence lengths from a text'''\n",
    "    lengths = []\n",
    "    for sentence in text:\n",
    "        lengths.append(len(sentence))\n",
    "    return pd.DataFrame(lengths, columns=['counts'])\n",
    "     "
   ]
  },
  {
   "cell_type": "code",
   "execution_count": 17,
   "id": "64939beb",
   "metadata": {},
   "outputs": [
    {
     "name": "stdout",
     "output_type": "stream",
     "text": [
      "Summaries:\n",
      "              counts\n",
      "count  287113.000000\n",
      "mean       52.170463\n",
      "std        21.464734\n",
      "min         0.000000\n",
      "25%        39.000000\n",
      "50%        49.000000\n",
      "75%        61.000000\n",
      "max      1296.000000\n",
      "\n",
      "Texts:\n",
      "              counts\n",
      "count  287113.000000\n",
      "mean      410.309488\n",
      "std       197.996908\n",
      "min         9.000000\n",
      "25%       265.000000\n",
      "50%       375.000000\n",
      "75%       517.000000\n",
      "max      2055.000000\n"
     ]
    }
   ],
   "source": [
    "\n",
    "lengths_summaries = create_lengths(int_summaries)\n",
    "lengths_texts = create_lengths(int_texts)\n",
    "\n",
    "print(\"Summaries:\")\n",
    "print(lengths_summaries.describe())\n",
    "print()\n",
    "print(\"Texts:\")\n",
    "print(lengths_texts.describe())\n",
    "     "
   ]
  },
  {
   "cell_type": "code",
   "execution_count": 18,
   "id": "be695d4d",
   "metadata": {},
   "outputs": [
    {
     "name": "stdout",
     "output_type": "stream",
     "text": [
      "687.0\n",
      "805.0\n",
      "995.0\n"
     ]
    }
   ],
   "source": [
    "\n",
    "print(np.percentile(lengths_texts.counts, 90))\n",
    "print(np.percentile(lengths_texts.counts, 95))\n",
    "print(np.percentile(lengths_texts.counts, 99))"
   ]
  },
  {
   "cell_type": "code",
   "execution_count": 19,
   "id": "3fba4616",
   "metadata": {},
   "outputs": [
    {
     "name": "stdout",
     "output_type": "stream",
     "text": [
      "78.0\n",
      "91.0\n",
      "121.0\n"
     ]
    }
   ],
   "source": [
    "# Inspect the length of summaries\n",
    "print(np.percentile(lengths_summaries.counts, 90))\n",
    "print(np.percentile(lengths_summaries.counts, 95))\n",
    "print(np.percentile(lengths_summaries.counts, 99))"
   ]
  },
  {
   "cell_type": "code",
   "execution_count": 20,
   "id": "9fb8148c",
   "metadata": {
    "scrolled": true
   },
   "outputs": [
    {
     "name": "stdout",
     "output_type": "stream",
     "text": [
      "Original Article:\n",
      ". associated press . published: . 14:11 est, 25 october 2013 . | . updated: . 15:36 est, 25 october 2013 . bishop fargo catholic diocese north dakota exposed potentially hundreds church members fargo, grand forks jamestown hepatitis virus late september early october. state health department issued advisory exposure anyone attended five churches took communion. bishop john folda (pictured) fargo catholic diocese north dakota exposed potentially hundreds church members fargo, grand forks jamestown hepatitis . state immunization program manager molly howell says risk low, officials feel important alert people possible exposure. diocese announced monday bishop john folda taking time diagnosed hepatitis a. diocese says contracted infection contaminated food attending conference newly ordained bishops italy last month. symptoms hepatitis include fever, tiredness, loss appetite, nausea abdominal discomfort. fargo catholic diocese north dakota (pictured) bishop located .\n",
      "\n",
      "Extractive Summary:\n",
      "bishop john folda (pictured) fargo catholic diocese north dakota exposed potentially hundreds church members fargo, grand forks jamestown hepatitis . bishop fargo catholic diocese north dakota exposed potentially hundreds church members fargo, grand forks jamestown hepatitis virus late september early october. 14:11 est, 25 october 2013 . 15:36 est, 25 october 2013 . fargo catholic diocese north dakota (pictured) bishop located .\n"
     ]
    }
   ],
   "source": [
    "import networkx as nx\n",
    "from sklearn.feature_extraction.text import TfidfVectorizer\n",
    "from sklearn.metrics.pairwise import cosine_similarity\n",
    "\n",
    "def sentence_similarity(sent1, sent2, vectorizer):\n",
    "    vectors = vectorizer.transform([sent1, sent2])\n",
    "    similarity = cosine_similarity(vectors)\n",
    "    return similarity[0][1]\n",
    "\n",
    "def build_sentence_graph(sentences, vectorizer):\n",
    "    G = nx.Graph()\n",
    "    for i in range(len(sentences)):\n",
    "        for j in range(i + 1, len(sentences)):\n",
    "            similarity = sentence_similarity(sentences[i], sentences[j], vectorizer)\n",
    "            if similarity > 0.2:\n",
    "                G.add_edge(i, j, weight=similarity)\n",
    "    return G\n",
    "\n",
    "def textrank_scores(sentences, vectorizer):\n",
    "    try:\n",
    "        G = build_sentence_graph(sentences, vectorizer)\n",
    "        scores = nx.pagerank(G)\n",
    "        return scores\n",
    "    except nx.NetworkXError as e:\n",
    "        print(f\"Error in building sentence graph: {e}\")\n",
    "        return {}\n",
    "\n",
    "def extractive_summarization(sentences, vectorizer, num_sentences=5):\n",
    "    try:\n",
    "        scores = textrank_scores(sentences, vectorizer)\n",
    "        if not scores:\n",
    "            # Handle the case where the graph is empty\n",
    "            return [\"Unable to generate summary. Check input document.\"]\n",
    "        \n",
    "        sorted_sentences = sorted(scores.items(), key=lambda x: x[1], reverse=True)\n",
    "        top_sentences = [sentences[i] for i, _ in sorted_sentences[:num_sentences]]\n",
    "        return top_sentences\n",
    "    except Exception as e:\n",
    "        print(f\"Error in extractive summarization: {e}\")\n",
    "        return [\"Unable to generate summary. Check input document.\"]\n",
    "\n",
    "# Example usage\n",
    "article = clean_article[0]\n",
    "sentences = [sent for sent in article.split('. ') if sent.strip()]  # Filter out empty sentences\n",
    "\n",
    "# Use TfidfVectorizer outside the sentence_similarity function to avoid empty vocabulary issues\n",
    "vectorizer = TfidfVectorizer()\n",
    "vectorizer.fit(sentences)\n",
    "\n",
    "summary_sentences = extractive_summarization(sentences, vectorizer)\n",
    "summary = '. '.join(summary_sentences)\n",
    "\n",
    "print(\"Original Article:\")\n",
    "print(article)\n",
    "print(\"\\nExtractive Summary:\")\n",
    "print(summary)\n"
   ]
  },
  {
   "cell_type": "code",
   "execution_count": null,
   "id": "4f78b50a",
   "metadata": {},
   "outputs": [],
   "source": []
  },
  {
   "cell_type": "markdown",
   "id": "34c6fe7f",
   "metadata": {},
   "source": [
    "# VALIDATION DATASET\n"
   ]
  },
  {
   "cell_type": "code",
   "execution_count": 21,
   "id": "1bff8d03",
   "metadata": {},
   "outputs": [
    {
     "name": "stdout",
     "output_type": "stream",
     "text": [
      "Validation Summaries are complete.\n",
      "Validation Texts are complete.\n",
      "\n",
      "Validation Example #1\n",
      "Original Validation Article:\n",
      "sally forrest, actress-dancer graced silver screen throughout 40s 50s mgm musicals films 1956 noir city sleeps died march 15 home beverly hills, california. forrest, whose birth name katherine feeney, 86 long battled cancer. publicist, judith goffin, announced news thursday. scroll video . actress: sally forrest 1951 ida lupino-directed film hard, fast beautiful (left) 1956 fritz lang movie city sleeps san diego native, forrest became protege hollywood trailblazer ida lupino, cast starring roles films including critical commercial success wanted, never fear hard, fast beautiful. forrest film credits included bannerline, son sinbad, excuse dust, according imdb page. page also indicates forrest multiple climax! rawhide television episodes. forrest appeared episode ed sullivan show three episodes dinah shore chevy show, imdb page says. also starred broadway production seven year itch. city news service reported stage credits included like it, no, no, nanette damn yankees. forrest married writer-producer milo frank 1951. died 2004. survived niece, sharon durham, nephews, michael mark feeney. career: san diego native, forrest became protege hollywood trailblazer ida lupino, cast starring roles films .\n",
      "\n",
      "Extractive Summary:\n",
      "actress: sally forrest 1951 ida lupino-directed film hard, fast beautiful (left) 1956 fritz lang movie city sleeps san diego native, forrest became protege hollywood trailblazer ida lupino, cast starring roles films including critical commercial success wanted, never fear hard, fast beautiful. career: san diego native, forrest became protege hollywood trailblazer ida lupino, cast starring roles films .\n",
      "\n",
      "Validation Example #2\n",
      "Original Validation Article:\n",
      "middle-school teacher china inked hundreds sketches beyond be-leaf. politics teacher wang lian, 35, created 1000 stunning ink drawings covering subjects varied cartoon characters landscapes animals, birds according people daily online. intricate scribbles leaves feature wang favourite sites across city nanjing, include presidential palace, yangtze river bridge, ancient jiming temple qinhuai river. natural canvas: artist teacher wang lian done hundreds drawings, like temple, leaves collects park streets . delicate: uses ink pen gently draw local scenes buildings dried leaves . although teaching politics job, drawing passion hobby, said wang. first tried drawing leaves 10 years ago fell love art form immediately. like drawing old parchment paper, really careful damage leaf fragile helps focus attention abilities. wang started giving drawings away christmas eve 2012 junior high school son came home saying wanted prepare gifts classmates. avid painter, wang decided give son friends unique presents gingko leaf paintings. wang loves gingko leaves often pick along gingko avenue, near school, nanjing east china jiangsu province. every autumn collects 2,000 leaves ground ensure enough cover spoils too. intricate: teacher wang drawn hundreds local scenes leaves collected park . hobby: artist collects leaves every autumn dries sketch impressive building scenes . colour shape gingko leaves particularly beautiful, said. need collect around 2000 leaves include losses . takes home presses pages books. luckily, quite lot books try use old ones ones already read end nothing read. dried, carefully takes one using ink fountain pen creates masterpieces. said: people capturing beauty photography, me, digitalised image same. new leaf: politics teacher wang lian drawn hundreds doodles leaves last 10 years . drawing see become far part process part final piece. one day hope able put collection display, really pleasure. wang leaf paintings turned bookmarks, postcards sometimes even given gifts students share beauty leaf paintings. locals luck able see wang art gobsmacked. local art collector hao, 58, said: truly remarkable beautiful creations. much talent wasted teaching.\n",
      "\n",
      "Extractive Summary:\n",
      "intricate: teacher wang drawn hundreds local scenes leaves collected park . avid painter, wang decided give son friends unique presents gingko leaf paintings. wang leaf paintings turned bookmarks, postcards sometimes even given gifts students share beauty leaf paintings. every autumn collects 2,000 leaves ground ensure enough cover spoils too. hobby: artist collects leaves every autumn dries sketch impressive building scenes \n",
      "\n",
      "Validation Example #3\n",
      "Original Validation Article:\n",
      "man convicted killing father sister former girlfriend fiery attack family southern california home sentenced death tuesday. iftekhar murtaza, 30, sentenced murders jay dhanak, 56, daughter karishma, 20, may 2007, orange county district attorney office said. murtaza convicted december 2013 killing pair attempt reunite then-18-year-old ex-girlfriend shayona dhanak. ended relationship citing hindu family opposition dating muslim. executed: iftekhar murtaza, 30, sentenced death tuesday may 21, 2007 murders ex-girlfriend father sister attempted murder mother . authorities said murtaza friend torched family anaheim hills home kidnapped killed dhanak father sister, leaving stabbed bodies burning park 2 miles dhanak dorm room university california, irvine. dhanak mother, leela, survived attack. stabbed left unconscious neighbor lawn. murtaza interviewed police several days later arrested phoenix airport ticket native bangladesh $11,000 cash. jurors recommended murtaza sentenced death crimes. attack: murtaza torched ex-girlfriend family orange county home broke-up, believing murders family would reunited . religious differences: murtaza dated shayona dhanak 18 2007. broke hindu parents allegedly told would stop paying college tuition continued date muslim man . two friends also sentenced life prison murders, one them, vitaliy krasnoperov, recently conviction overturned appeal. authorities said krasnoperov hatched plot kill dhanaks murtaza tried help hire hit man. said another friend, charles murphy jr., helped murtaza carry killings dhanak said planned go date someone else. trial, murtaza testified told many people wanted kill dhanaks distraught breakup, said mean literally. alone: two murtaza friends convicted connection killings . killer: leela dhanak testified iftekhar murtaza, seen august photo, murdered husband elder daughter failed attempt win younger daughter . bloodbath: autopsy reports showed jayprakash dhanak (left) suffered 29 stab wounds body, pathologist testified karishma dhanak (right) alive throat slit body set alight .\n",
      "\n",
      "Extractive Summary:\n",
      "man convicted killing father sister former girlfriend fiery attack family southern california home sentenced death tuesday. executed: iftekhar murtaza, 30, sentenced death tuesday may 21, 2007 murders ex-girlfriend father sister attempted murder mother . murtaza convicted december 2013 killing pair attempt reunite then-18-year-old ex-girlfriend shayona dhanak. religious differences: murtaza dated shayona dhanak 18 2007. iftekhar murtaza, 30, sentenced murders jay dhanak, 56, daughter karishma, 20, may 2007, orange county district attorney office said\n",
      "\n",
      "Validation Example #4\n",
      "Original Validation Article:\n",
      "avid rugby fan prince harry could barely watch england came short 26-point margin needed win first six nations since 2011 pulsating match twickenham. breathtaking spectacle, england defeated france 55-35 le crunch - six points short total required lift trophy. sporting navy blue suit, fourth-in-line throne squirmed seat england got difficult start, despite early try. scroll video . stress: prince barely watch england beat france 55-35 narrowly missed six nations . taking toll: harry looks anxious england struggled cope france impressive start match . passion: prince harry belts national anthem, seated behind england coach stuart lancaster . despite herculean effort, england could find final try finished second championship, behind ireland. match, england head coach stuart lancaster praised side one courageous performances seen side. go one great games rugby, added. earlier day, ireland thrashed 40-10 edinburgh mark dismal campaign scots impressive wales ran riot rome, thumping italy 61-20. smiles: fourth-in-line throne grins alongside students reigate school, surrey . england crunch match france, prince harry met girls reigate school quest academy, croydon, played warm-up game. harry - vice patron rugby football union (rfu) - also chatted members armed forces twickenham . looking dapper navy suit, fourth-in-line throne took seat stand singing national anthem gusto. patriotic: harry chats member army - announced week quit army summer . pointing way: prince avid rugby fan - england wales host world cup later year . suave: harry, sharp navy suit, walks along side hallowed twickenham turf match . six nations last competitive rugby tournament england host world cup later year. tournament begins september 18 england taking fiji twickenham. 2014 prince harry named patron rfu schools campaign, aims bring rugby 750 schools rugby world cup 2019. looking up: prince harry takes seat stands bernard lapasset, left, chairman irb . role model: harry chats students reigate school, played england match vs france . charismatic: prince - patron rfu schools campaign, jokes girls photo shoot . also patron rfu injured players foundation. although one prominent royal rugby fans (he famously attendance england lifted webb ellis cup australia 2003), prince means one. brother prince william also fan enjoys similar position welsh rfu princess royal patron scottish rugby regularly appears murrayfield match day.\n",
      "\n",
      "Extractive Summary:\n",
      "stress: prince barely watch england beat france 55-35 narrowly missed six nations . smiles: fourth-in-line throne grins alongside students reigate school, surrey . role model: harry chats students reigate school, played england match vs france . looking dapper navy suit, fourth-in-line throne took seat stand singing national anthem gusto. passion: prince harry belts national anthem, seated behind england coach stuart lancaster \n",
      "\n",
      "Validation Example #5\n",
      "Original Validation Article:\n",
      "triple radio producer inundated messages prospective partners workplace ploy. tuesday grill team show, hosts matty johns, mark geyer gus worland uploaded picture 26-year-old nick slater facebook mobile number people could reach him. less 24 hours, received 130 messages varied range male female listeners, reports news.com. triple producer nick slater, (c), pictured grill team hosts, flooded 130 voicemails 24 hours . workmates grill team hosts matty johns, mark geyer gus worland uploaded picture 26-year-old nick slater facebook mobile number people could reach . ploy came waitress handed audio engineer number work drinks. unconvinced one off, colleagues decided put test see anyone else romantically interested him. producers drinks friday & handsome nick got number waitress first 10 minutes! believe never happens him. nicks number...let see many calls gets! slater received torrent voicemails, ranging date proposals heavy panting 26-year-old slater, sound engineer, triple grill team workmates . following 24 hours slater received torrent voicemails, ranging date proposals heavy panting. wide range messages nice girls nice blokes well. even grandma too., said. went listened them. mostly people looking lust, telling give call … good fun. slater said long-term girlfriend kimberley understood station antics, found gag hilarious. slater said long-term girlfriend kimberley (pictured) found umber ploy hilarious .\n",
      "\n",
      "Extractive Summary:\n",
      "workmates grill team hosts matty johns, mark geyer gus worland uploaded picture 26-year-old nick slater facebook mobile number people could reach . tuesday grill team show, hosts matty johns, mark geyer gus worland uploaded picture 26-year-old nick slater facebook mobile number people could reach him. nicks number...let see many calls gets! slater received torrent voicemails, ranging date proposals heavy panting 26-year-old slater, sound engineer, triple grill team workmates . triple producer nick slater, (c), pictured grill team hosts, flooded 130 voicemails 24 hours . slater said long-term girlfriend kimberley understood station antics, found gag hilarious\n"
     ]
    }
   ],
   "source": [
    "import numpy as np\n",
    "import pandas as pd\n",
    "import re\n",
    "import tensorflow as tf\n",
    "from sklearn.feature_extraction.text import TfidfVectorizer\n",
    "from sklearn.metrics.pairwise import cosine_similarity\n",
    "import networkx as nx\n",
    "\n",
    "# Manually define a set of English stopwords\n",
    "stopwords_set = set([\n",
    "    \"i\", \"me\", \"my\", \"myself\", \"we\", \"our\", \"ours\", \"ourselves\", \"you\", \"your\", \"yours\", \"yourself\", \"yourselves\",\n",
    "    \"he\", \"him\", \"his\", \"himself\", \"she\", \"her\", \"hers\", \"herself\", \"it\", \"its\", \"itself\", \"they\", \"them\", \"their\",\n",
    "    \"theirs\", \"themselves\", \"what\", \"which\", \"who\", \"whom\", \"this\", \"that\", \"these\", \"those\", \"am\", \"is\", \"are\", \"was\",\n",
    "    \"were\", \"be\", \"been\", \"being\", \"have\", \"has\", \"had\", \"having\", \"do\", \"does\", \"did\", \"doing\", \"a\", \"an\", \"the\", \"and\",\n",
    "    \"but\", \"if\", \"or\", \"because\", \"as\", \"until\", \"while\", \"of\", \"at\", \"by\", \"for\", \"with\", \"about\", \"against\", \"between\",\n",
    "    \"into\", \"through\", \"during\", \"before\", \"after\", \"above\", \"below\", \"to\", \"from\", \"up\", \"down\", \"in\", \"out\", \"on\", \"off\",\n",
    "    \"over\", \"under\", \"again\", \"further\", \"then\", \"once\", \"here\", \"there\", \"when\", \"where\", \"why\", \"how\", \"all\", \"any\",\n",
    "    \"both\", \"each\", \"few\", \"more\", \"most\", \"other\", \"some\", \"such\", \"no\", \"nor\", \"not\", \"only\", \"own\", \"same\", \"so\",\n",
    "    \"than\", \"too\", \"very\", \"s\", \"t\", \"can\", \"will\", \"just\", \"don\", \"should\", \"now\", \"d\", \"ll\", \"m\", \"o\", \"re\", \"ve\", \"y\",\n",
    "    \"ain\", \"aren\", \"couldn\", \"didn\", \"doesn\", \"hadn\", \"hasn\", \"haven\", \"isn\", \"ma\", \"mightn\", \"mustn\", \"needn\", \"shan\",\n",
    "    \"shouldn\", \"wasn\", \"weren\", \"won\", \"wouldn\"\n",
    "])\n",
    "\n",
    "# ... (Your contractions and clean_text function)\n",
    "\n",
    "# Load the validation dataset\n",
    "df_validation = pd.read_csv('validation.csv', on_bad_lines='skip', engine=\"python\")\n",
    "df_validation = df_validation.drop(['id'], axis=1)\n",
    "\n",
    "# Cleaning validation highlights\n",
    "clean_highlights_validation = []\n",
    "for i in df_validation.highlights:\n",
    "    clean_highlights_validation.append(clean_text(i, remove_stopwords=False))\n",
    "print(\"Validation Summaries are complete.\")\n",
    "\n",
    "# Cleaning validation articles\n",
    "clean_article_validation = []\n",
    "for k in df_validation.article:\n",
    "    clean_article_validation.append(clean_text(k))\n",
    "print(\"Validation Texts are complete.\")\n",
    "\n",
    "# Create a function for the entire process of extractive summarization\n",
    "def extractive_summarization_full(article_text, highlights_text, vectorizer, num_sentences=5):\n",
    "    try:\n",
    "        # Clean article and highlights\n",
    "        clean_article = clean_text(article_text)\n",
    "        clean_highlights = clean_text(highlights_text, remove_stopwords=False)\n",
    "        \n",
    "        # Split article into sentences\n",
    "        sentences = [sent for sent in clean_article.split('. ') if sent.strip()]\n",
    "        \n",
    "        # Use the vectorizer to transform sentences\n",
    "        vectorizer.fit(sentences)\n",
    "        \n",
    "        # Perform extractive summarization\n",
    "        summary_sentences = extractive_summarization(sentences, vectorizer, num_sentences)\n",
    "        summary = '. '.join(summary_sentences)\n",
    "        \n",
    "        return summary\n",
    "    except Exception as e:\n",
    "        print(f\"Error in extractive summarization: {e}\")\n",
    "        return \"Unable to generate summary. Check input document.\"\n",
    "\n",
    "# Example usage for validation set\n",
    "for i in range(5):  # You can change the range based on the number of samples you want to process\n",
    "    article_validation = clean_article_validation[i]\n",
    "    highlights_validation = clean_highlights_validation[i]\n",
    "    \n",
    "    summary_validation = extractive_summarization_full(article_validation, highlights_validation, vectorizer)\n",
    "    \n",
    "    print(f\"\\nValidation Example #{i + 1}\")\n",
    "    print(\"Original Validation Article:\")\n",
    "    print(article_validation)\n",
    "    print(\"\\nExtractive Summary:\")\n",
    "    print(summary_validation)\n"
   ]
  },
  {
   "cell_type": "markdown",
   "id": "7a82e281",
   "metadata": {},
   "source": [
    "# TEST DATASET "
   ]
  },
  {
   "cell_type": "code",
   "execution_count": 22,
   "id": "7e00a44e",
   "metadata": {},
   "outputs": [
    {
     "name": "stdout",
     "output_type": "stream",
     "text": [
      "Test summaries are complete.\n",
      "Test texts are complete.\n",
      "Original Test Article:\n",
      "ever noticed plane seats appear getting smaller smaller? increasing numbers people taking skies, experts questioning packed planes putting passengers risk. say shrinking space aeroplanes uncomfortable - putting health safety danger. squabbling arm rest, shrinking space planes putting health safety danger? week, u.s consumer advisory group set department transportation said public hearing government happy set standards animals flying planes, stipulate minimum amount space humans. world animals rights space food humans, said charlie leocha, consumer representative committee. time dot faa take stand humane treatment passengers. could crowding planes lead serious issues fighting space overhead lockers, crashing elbows seat back kicking? tests conducted faa use planes 31 inch pitch, standard airlines decreased . many economy seats united airlines 30 inches room, airlines offer little 28 inches . cynthia corbertt, human factors researcher federal aviation administration, conducts tests quickly passengers leave plane. tests conducted using planes 31 inches row seats, standard airlines decreased, reported detroit news. distance two seats one point seat point seat behind known pitch. airlines stick pitch 31 inches above, fall this. united airlines 30 inches space, gulf air economy seats 29 32 inches, air asia offers 29 inches spirit airlines offers 28 inches. british airways seat pitch 31 inches, easyjet 29 inches, thomson short haul seat pitch 28 inches, virgin atlantic 30-31.\n",
      "\n",
      "Extractive Test Summary:\n",
      "squabbling arm rest, shrinking space planes putting health safety danger? week, u.s consumer advisory group set department transportation said public hearing government happy set standards animals flying planes, stipulate minimum amount space humans. world animals rights space food humans, said charlie leocha, consumer representative committee\n"
     ]
    }
   ],
   "source": [
    "# Load test data from 'test.csv' into a DataFrame\n",
    "test_df = pd.read_csv('test.csv', on_bad_lines='skip', engine=\"python\")\n",
    "\n",
    "# Drop unnecessary columns from the test DataFrame\n",
    "test_df = test_df.drop(['id'], axis=1)\n",
    "\n",
    "# Cleaning test highlights\n",
    "clean_test_highlights = []\n",
    "for i in test_df.highlights:\n",
    "    clean_test_highlights.append(clean_text(i, remove_stopwords=False))\n",
    "print(\"Test summaries are complete.\")\n",
    "\n",
    "# Cleaning test articles\n",
    "clean_test_article = []\n",
    "for k in test_df.article:\n",
    "    clean_test_article.append(clean_text(k))\n",
    "print(\"Test texts are complete.\")\n",
    "\n",
    "# Convert test data to integers\n",
    "word_count = 0\n",
    "unk_count = 0\n",
    "\n",
    "int_test_summaries, word_count, unk_count = convert_to_ints(clean_test_highlights, word_count, unk_count)\n",
    "int_test_texts, word_count, unk_count = convert_to_ints(clean_test_article, word_count, unk_count, eos=True)\n",
    "\n",
    "# Example usage of the extractive summarization function on the first test article\n",
    "test_article = clean_test_article[0]\n",
    "test_sentences = [sent for sent in test_article.split('. ') if sent.strip()]\n",
    "\n",
    "summary_sentences_test = extractive_summarization(test_sentences, vectorizer)\n",
    "summary_test = '. '.join(summary_sentences_test)\n",
    "\n",
    "print(\"Original Test Article:\")\n",
    "print(test_article)\n",
    "print(\"\\nExtractive Test Summary:\")\n",
    "print(summary_test)\n"
   ]
  },
  {
   "cell_type": "markdown",
   "id": "aee6e36f",
   "metadata": {},
   "source": [
    "# FLASK APP"
   ]
  },
  {
   "cell_type": "code",
   "execution_count": 23,
   "id": "27a7f223",
   "metadata": {},
   "outputs": [
    {
     "name": "stdout",
     "output_type": "stream",
     "text": [
      "Requirement already satisfied: flask in d:\\ml\\lib\\site-packages (2.2.2)\n",
      "Requirement already satisfied: flask-ngrok in d:\\ml\\lib\\site-packages (0.0.25)\n",
      "Requirement already satisfied: Werkzeug>=2.2.2 in d:\\ml\\lib\\site-packages (from flask) (2.2.2)\n",
      "Requirement already satisfied: Jinja2>=3.0 in d:\\ml\\lib\\site-packages (from flask) (3.1.2)\n",
      "Requirement already satisfied: itsdangerous>=2.0 in d:\\ml\\lib\\site-packages (from flask) (2.0.1)\n",
      "Requirement already satisfied: click>=8.0 in d:\\ml\\lib\\site-packages (from flask) (8.0.4)\n",
      "Requirement already satisfied: requests in d:\\ml\\lib\\site-packages (from flask-ngrok) (2.28.1)\n",
      "Requirement already satisfied: colorama in d:\\ml\\lib\\site-packages (from click>=8.0->flask) (0.4.6)\n",
      "Requirement already satisfied: MarkupSafe>=2.0 in d:\\ml\\lib\\site-packages (from Jinja2>=3.0->flask) (2.1.1)\n",
      "Requirement already satisfied: charset-normalizer<3,>=2 in d:\\ml\\lib\\site-packages (from requests->flask-ngrok) (2.0.4)\n",
      "Requirement already satisfied: idna<4,>=2.5 in d:\\ml\\lib\\site-packages (from requests->flask-ngrok) (3.4)\n",
      "Requirement already satisfied: urllib3<1.27,>=1.21.1 in d:\\ml\\lib\\site-packages (from requests->flask-ngrok) (1.26.14)\n",
      "Requirement already satisfied: certifi>=2017.4.17 in d:\\ml\\lib\\site-packages (from requests->flask-ngrok) (2022.12.7)\n"
     ]
    }
   ],
   "source": [
    "!pip install flask flask-ngrok\n"
   ]
  },
  {
   "cell_type": "code",
   "execution_count": null,
   "id": "d7153fa3",
   "metadata": {
    "scrolled": true
   },
   "outputs": [
    {
     "name": "stdout",
     "output_type": "stream",
     "text": [
      " * Serving Flask app '__main__'\n",
      " * Debug mode: off\n"
     ]
    },
    {
     "name": "stderr",
     "output_type": "stream",
     "text": [
      "WARNING: This is a development server. Do not use it in a production deployment. Use a production WSGI server instead.\n",
      " * Running on http://127.0.0.1:5000\n",
      "Press CTRL+C to quit\n"
     ]
    }
   ],
   "source": [
    "\n",
    "\n",
    "from flask import Flask\n",
    "\n",
    "app = Flask(__name__)\n",
    "\n",
    "@app.route('/')\n",
    "def hello():\n",
    "    return 'Hello, World!'\n",
    "\n",
    "if __name__ == '__main__':\n",
    "    app.run()\n"
   ]
  },
  {
   "cell_type": "code",
   "execution_count": null,
   "id": "f49274bf",
   "metadata": {},
   "outputs": [],
   "source": []
  }
 ],
 "metadata": {
  "kernelspec": {
   "display_name": "Python 3 (ipykernel)",
   "language": "python",
   "name": "python3"
  },
  "language_info": {
   "codemirror_mode": {
    "name": "ipython",
    "version": 3
   },
   "file_extension": ".py",
   "mimetype": "text/x-python",
   "name": "python",
   "nbconvert_exporter": "python",
   "pygments_lexer": "ipython3",
   "version": "3.10.9"
  }
 },
 "nbformat": 4,
 "nbformat_minor": 5
}
